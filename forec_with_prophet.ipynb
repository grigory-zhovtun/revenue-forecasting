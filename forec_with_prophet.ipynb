{
 "cells": [
  {
   "cell_type": "markdown",
   "id": "1f4854ff-eb91-4102-a829-f38e36578c6b",
   "metadata": {
    "jp-MarkdownHeadingCollapsed": true,
    "tags": []
   },
   "source": [
    "#### imports"
   ]
  },
  {
   "cell_type": "code",
   "execution_count": 1,
   "id": "179a6b97-03c9-4a33-8e61-55e76be0f4c7",
   "metadata": {
    "tags": []
   },
   "outputs": [],
   "source": [
    "import pandas as pd\n",
    "import numpy as np\n",
    "from prophet import Prophet"
   ]
  },
  {
   "cell_type": "code",
   "execution_count": null,
   "id": "25418f9a-35e8-432b-9c98-aaf6aba32d05",
   "metadata": {
    "tags": []
   },
   "outputs": [],
   "source": [
    "df = pd.read_excel('facts 2022-2023.xlsx')\n",
    "df"
   ]
  },
  {
   "cell_type": "markdown",
   "id": "3a1d6d73-7b50-4936-972b-7e289beb765f",
   "metadata": {
    "jp-MarkdownHeadingCollapsed": true,
    "tags": []
   },
   "source": [
    "#### cleaning data"
   ]
  },
  {
   "cell_type": "code",
   "execution_count": null,
   "id": "610359b8-81ad-426a-995c-817f6d969f8c",
   "metadata": {
    "tags": []
   },
   "outputs": [],
   "source": [
    "df['Кафе'].unique()"
   ]
  },
  {
   "cell_type": "code",
   "execution_count": 4,
   "id": "97b2d28b-34c8-46e8-a20d-b93b46db31a0",
   "metadata": {
    "tags": []
   },
   "outputs": [],
   "source": [
    "df = df[df['Кафе']!='Кейтеринг']"
   ]
  },
  {
   "cell_type": "code",
   "execution_count": null,
   "id": "a49d5840-8599-40ae-97a5-29e3f247e186",
   "metadata": {
    "tags": []
   },
   "outputs": [],
   "source": [
    "df.isnull().sum()"
   ]
  },
  {
   "cell_type": "code",
   "execution_count": 6,
   "id": "8c63a760-a58d-4342-a0bf-912f3d47a433",
   "metadata": {
    "tags": []
   },
   "outputs": [],
   "source": [
    "df = df[['Кафе', 'Дата', 'Тр', 'Чек']]"
   ]
  },
  {
   "cell_type": "code",
   "execution_count": null,
   "id": "138414d6-6fa2-4996-a823-33d78ac2af83",
   "metadata": {
    "tags": []
   },
   "outputs": [],
   "source": [
    "df.info()"
   ]
  },
  {
   "cell_type": "markdown",
   "id": "ef4d65c2-73cf-42aa-9755-7cce4706c10b",
   "metadata": {
    "tags": []
   },
   "source": [
    "#### forecasting"
   ]
  },
  {
   "cell_type": "code",
   "execution_count": 8,
   "id": "143ef405-6a42-40c2-8979-9ce5a989b268",
   "metadata": {
    "tags": []
   },
   "outputs": [],
   "source": [
    "holiday = pd.read_excel('holidays_df.xlsx')"
   ]
  },
  {
   "cell_type": "code",
   "execution_count": 9,
   "id": "18c9220c-e5e2-4a57-a567-b99df966eb54",
   "metadata": {
    "tags": []
   },
   "outputs": [],
   "source": [
    "def forec_func(obj, result_df):\n",
    "    cafes = df['Кафе'].unique().tolist()\n",
    "\n",
    "    for cafe in cafes:\n",
    "        df_cafe = df[df['Кафе'] == cafe]\n",
    "        df_cafe = df_cafe[['Дата', obj]]\n",
    "        df_cafe.columns = ['ds', 'y']\n",
    "\n",
    "        # Создание нового экземпляра модели для каждого кафе\n",
    "        m = Prophet(holidays=holiday)\n",
    "        m.add_country_holidays(country_name='RU')\n",
    "\n",
    "        # Обучение модели на данных каждого кафе\n",
    "        m.fit(df_cafe)\n",
    "\n",
    "        # Создание будущего датафрейма и выполнение прогноза\n",
    "        future = m.make_future_dataframe(periods=365)\n",
    "        forecast = m.predict(future)\n",
    "        \n",
    "        forecast[\"Кафе\"] = cafe\n",
    "        forecast[\"Показатель\"] = obj\n",
    "\n",
    "        # Сохранение прогноза в result_df\n",
    "        result_df = pd.concat([result_df, forecast])\n",
    "    return result_df"
   ]
  },
  {
   "cell_type": "code",
   "execution_count": 10,
   "id": "847b83f2-fa4c-4a36-b718-a2588513bac9",
   "metadata": {
    "tags": []
   },
   "outputs": [],
   "source": [
    "result_df = pd.DataFrame()"
   ]
  },
  {
   "cell_type": "code",
   "execution_count": null,
   "id": "aba0b8b9-a7cd-4e96-ba7f-0008b77e411f",
   "metadata": {
    "tags": []
   },
   "outputs": [],
   "source": [
    "result_df = forec_func('Тр', result_df)"
   ]
  },
  {
   "cell_type": "code",
   "execution_count": null,
   "id": "ca92da2a-f0ec-475a-a37b-84d92fa8b0ab",
   "metadata": {
    "tags": []
   },
   "outputs": [],
   "source": [
    "result_df = forec_func('Чек', result_df)"
   ]
  },
  {
   "cell_type": "markdown",
   "id": "972bd0aa-6377-4ed1-a04f-8e22f0523f1c",
   "metadata": {
    "jp-MarkdownHeadingCollapsed": true,
    "tags": []
   },
   "source": [
    "#### Prepare result and save to Excel"
   ]
  },
  {
   "cell_type": "code",
   "execution_count": null,
   "id": "4ce03734-0c3b-4536-8495-09dee73a2478",
   "metadata": {
    "tags": []
   },
   "outputs": [],
   "source": [
    "result_df.info()"
   ]
  },
  {
   "cell_type": "code",
   "execution_count": 44,
   "id": "12aa57dd-57eb-49e8-9c3d-70de2e936154",
   "metadata": {
    "tags": []
   },
   "outputs": [],
   "source": [
    "pivot_df = result_df.set_index('ds')"
   ]
  },
  {
   "cell_type": "code",
   "execution_count": 46,
   "id": "7913bc2c-35a3-4892-a23d-1df8330d00cb",
   "metadata": {
    "tags": []
   },
   "outputs": [],
   "source": [
    "pivot_df = pivot_df.pivot_table(index=['ds', 'Кафе'], columns='Показатель', values='yhat').reset_index()"
   ]
  },
  {
   "cell_type": "code",
   "execution_count": null,
   "id": "4da6601b-f3a0-41d5-a9e7-39487c7ff50e",
   "metadata": {
    "tags": []
   },
   "outputs": [],
   "source": [
    "pivot_df"
   ]
  },
  {
   "cell_type": "code",
   "execution_count": 48,
   "id": "003f7173-af5b-474b-96eb-44dbd0ee12c9",
   "metadata": {
    "tags": []
   },
   "outputs": [],
   "source": [
    "pivot_df['ТО'] = pivot_df['Тр'] * pivot_df['Чек']"
   ]
  },
  {
   "cell_type": "code",
   "execution_count": 51,
   "id": "52b1bee7-fac1-4868-972a-a4e64f5e0dd8",
   "metadata": {
    "tags": []
   },
   "outputs": [],
   "source": [
    "pivot_df.to_excel('forecast_revenue.xlsx', index=False)"
   ]
  },
  {
   "cell_type": "code",
   "execution_count": null,
   "id": "88748a47-a7e9-46e6-9f7f-a9c9e7df95b7",
   "metadata": {},
   "outputs": [],
   "source": []
  }
 ],
 "metadata": {
  "kernelspec": {
   "display_name": "Python 3 (ipykernel)",
   "language": "python",
   "name": "python3"
  },
  "language_info": {
   "codemirror_mode": {
    "name": "ipython",
    "version": 3
   },
   "file_extension": ".py",
   "mimetype": "text/x-python",
   "name": "python",
   "nbconvert_exporter": "python",
   "pygments_lexer": "ipython3",
   "version": "3.11.5"
  }
 },
 "nbformat": 4,
 "nbformat_minor": 5
}
